{
 "cells": [
  {
   "cell_type": "code",
   "execution_count": 3,
   "id": "8cf6b8a6",
   "metadata": {},
   "outputs": [
    {
     "name": "stdout",
     "output_type": "stream",
     "text": [
      "Requirement already satisfied: pandas in ./.venv/lib/python3.12/site-packages (2.2.3)\n",
      "Requirement already satisfied: numpy in ./.venv/lib/python3.12/site-packages (2.2.6)\n",
      "Collecting openpyxl\n",
      "  Using cached openpyxl-3.1.5-py2.py3-none-any.whl.metadata (2.5 kB)\n",
      "Requirement already satisfied: python-dateutil>=2.8.2 in ./.venv/lib/python3.12/site-packages (from pandas) (2.9.0.post0)\n",
      "Requirement already satisfied: pytz>=2020.1 in ./.venv/lib/python3.12/site-packages (from pandas) (2025.2)\n",
      "Requirement already satisfied: tzdata>=2022.7 in ./.venv/lib/python3.12/site-packages (from pandas) (2025.2)\n",
      "Collecting et-xmlfile (from openpyxl)\n",
      "  Using cached et_xmlfile-2.0.0-py3-none-any.whl.metadata (2.7 kB)\n",
      "Requirement already satisfied: six>=1.5 in ./.venv/lib/python3.12/site-packages (from python-dateutil>=2.8.2->pandas) (1.17.0)\n",
      "Using cached openpyxl-3.1.5-py2.py3-none-any.whl (250 kB)\n",
      "Using cached et_xmlfile-2.0.0-py3-none-any.whl (18 kB)\n",
      "Installing collected packages: et-xmlfile, openpyxl\n",
      "\u001b[2K   \u001b[90m━━━━━━━━━━━━━━━━━━━━━━━━━━━━━━━━━━━━━━━━\u001b[0m \u001b[32m2/2\u001b[0m [openpyxl]1/2\u001b[0m [openpyxl]\n",
      "\u001b[1A\u001b[2KSuccessfully installed et-xmlfile-2.0.0 openpyxl-3.1.5\n",
      "Note: you may need to restart the kernel to use updated packages.\n"
     ]
    }
   ],
   "source": [
    "%pip install pandas numpy openpyxl"
   ]
  },
  {
   "cell_type": "code",
   "execution_count": 4,
   "id": "803a0006",
   "metadata": {},
   "outputs": [],
   "source": [
    "import pandas as pd\n",
    "import numpy as np\n",
    "\n",
    "df = pd.read_excel(\"logistica_data.xlsx\")"
   ]
  },
  {
   "cell_type": "code",
   "execution_count": 7,
   "id": "77606ae8",
   "metadata": {},
   "outputs": [
    {
     "data": {
      "application/vnd.microsoft.datawrangler.viewer.v0+json": {
       "columns": [
        {
         "name": "index",
         "rawType": "int64",
         "type": "integer"
        },
        {
         "name": "AÑO",
         "rawType": "int64",
         "type": "integer"
        },
        {
         "name": "MES",
         "rawType": "int64",
         "type": "integer"
        },
        {
         "name": "REGION",
         "rawType": "object",
         "type": "string"
        },
        {
         "name": "CIUDAD",
         "rawType": "object",
         "type": "string"
        },
        {
         "name": "SECCION",
         "rawType": "int64",
         "type": "integer"
        },
        {
         "name": "NOMB SECCIÓN",
         "rawType": "object",
         "type": "string"
        },
        {
         "name": "CODBARRAS",
         "rawType": "int64",
         "type": "integer"
        },
        {
         "name": "CODIGO",
         "rawType": "int64",
         "type": "integer"
        },
        {
         "name": "DESCRP",
         "rawType": "object",
         "type": "string"
        },
        {
         "name": "CANTID",
         "rawType": "int64",
         "type": "integer"
        },
        {
         "name": "NITPRO",
         "rawType": "int64",
         "type": "integer"
        },
        {
         "name": "RAZON",
         "rawType": "object",
         "type": "string"
        },
        {
         "name": "DISTRI",
         "rawType": "object",
         "type": "string"
        },
        {
         "name": "CODNEG",
         "rawType": "int64",
         "type": "integer"
        },
        {
         "name": "VRCOST",
         "rawType": "int64",
         "type": "integer"
        },
        {
         "name": "VRVENT",
         "rawType": "int64",
         "type": "integer"
        },
        {
         "name": "TIPNEG",
         "rawType": "object",
         "type": "string"
        },
        {
         "name": "MARCA",
         "rawType": "int64",
         "type": "integer"
        },
        {
         "name": "NOMMAR",
         "rawType": "object",
         "type": "string"
        },
        {
         "name": "INDCODIFI",
         "rawType": "object",
         "type": "string"
        }
       ],
       "ref": "16b381b3-3898-4bc3-80a1-6f4e9b3e455f",
       "rows": [
        [
         "0",
         "2017",
         "1",
         "BAQ",
         "BAQ",
         "31",
         "ASEO PERSONAL ",
         "7891010030940",
         "10112",
         "SHAMPOO JOHNSON ORIGINAL 750cm3",
         "4",
         "890101815",
         "JOHNSON Y JOHNSON DE COLOMBIA S.A.",
         "BAQ",
         "1",
         "56372",
         "78000",
         "SAO",
         "2770",
         "JOHNSON",
         "C"
        ],
        [
         "1",
         "2017",
         "1",
         "BAQ",
         "BAQ",
         "31",
         "ASEO PERSONAL ",
         "7891010030889",
         "12884",
         "SHAMPOO JOHNSON MANZANILLA 200cm3",
         "40",
         "890101815",
         "JOHNSON Y JOHNSON DE COLOMBIA S.A.",
         "BAQ",
         "1",
         "279960",
         "380725",
         "SAO",
         "2770",
         "JOHNSON",
         "C"
        ],
        [
         "2",
         "2017",
         "1",
         "BAQ",
         "BAQ",
         "31",
         "ASEO PERSONAL ",
         "7891010030537",
         "12886",
         "SHAMPOO JOHNSON MANZANILLA 400cm3",
         "27",
         "890101815",
         "JOHNSON Y JOHNSON DE COLOMBIA S.A.",
         "BAQ",
         "1",
         "273645",
         "327074",
         "SAO",
         "2770",
         "JOHNSON",
         "C"
        ],
        [
         "3",
         "2017",
         "1",
         "BAQ",
         "BAQ",
         "31",
         "ASEO PERSONAL ",
         "7891010030544",
         "12888",
         "SHAMPOO JOHNSON MANZANILLA 750cm3",
         "7",
         "890101815",
         "JOHNSON Y JOHNSON DE COLOMBIA S.A.",
         "BAQ",
         "1",
         "98651",
         "114600",
         "SAO",
         "2770",
         "JOHNSON",
         "C"
        ],
        [
         "4",
         "2017",
         "1",
         "BAQ",
         "BAQ",
         "31",
         "ASEO PERSONAL ",
         "7891010031046",
         "22714",
         "ACEITE JOHNSON ORIG 100 cm3",
         "53",
         "890101815",
         "JOHNSON Y JOHNSON DE COLOMBIA S.A.",
         "BAQ",
         "1",
         "240779",
         "360400",
         "SAO",
         "2770",
         "JOHNSON",
         "C"
        ]
       ],
       "shape": {
        "columns": 20,
        "rows": 5
       }
      },
      "text/html": [
       "<div>\n",
       "<style scoped>\n",
       "    .dataframe tbody tr th:only-of-type {\n",
       "        vertical-align: middle;\n",
       "    }\n",
       "\n",
       "    .dataframe tbody tr th {\n",
       "        vertical-align: top;\n",
       "    }\n",
       "\n",
       "    .dataframe thead th {\n",
       "        text-align: right;\n",
       "    }\n",
       "</style>\n",
       "<table border=\"1\" class=\"dataframe\">\n",
       "  <thead>\n",
       "    <tr style=\"text-align: right;\">\n",
       "      <th></th>\n",
       "      <th>AÑO</th>\n",
       "      <th>MES</th>\n",
       "      <th>REGION</th>\n",
       "      <th>CIUDAD</th>\n",
       "      <th>SECCION</th>\n",
       "      <th>NOMB SECCIÓN</th>\n",
       "      <th>CODBARRAS</th>\n",
       "      <th>CODIGO</th>\n",
       "      <th>DESCRP</th>\n",
       "      <th>CANTID</th>\n",
       "      <th>NITPRO</th>\n",
       "      <th>RAZON</th>\n",
       "      <th>DISTRI</th>\n",
       "      <th>CODNEG</th>\n",
       "      <th>VRCOST</th>\n",
       "      <th>VRVENT</th>\n",
       "      <th>TIPNEG</th>\n",
       "      <th>MARCA</th>\n",
       "      <th>NOMMAR</th>\n",
       "      <th>INDCODIFI</th>\n",
       "    </tr>\n",
       "  </thead>\n",
       "  <tbody>\n",
       "    <tr>\n",
       "      <th>0</th>\n",
       "      <td>2017</td>\n",
       "      <td>1</td>\n",
       "      <td>BAQ</td>\n",
       "      <td>BAQ</td>\n",
       "      <td>31</td>\n",
       "      <td>ASEO PERSONAL</td>\n",
       "      <td>7891010030940</td>\n",
       "      <td>10112</td>\n",
       "      <td>SHAMPOO JOHNSON ORIGINAL 750cm3</td>\n",
       "      <td>4</td>\n",
       "      <td>890101815</td>\n",
       "      <td>JOHNSON Y JOHNSON DE COLOMBIA S.A.</td>\n",
       "      <td>BAQ</td>\n",
       "      <td>1</td>\n",
       "      <td>56372</td>\n",
       "      <td>78000</td>\n",
       "      <td>SAO</td>\n",
       "      <td>2770</td>\n",
       "      <td>JOHNSON</td>\n",
       "      <td>C</td>\n",
       "    </tr>\n",
       "    <tr>\n",
       "      <th>1</th>\n",
       "      <td>2017</td>\n",
       "      <td>1</td>\n",
       "      <td>BAQ</td>\n",
       "      <td>BAQ</td>\n",
       "      <td>31</td>\n",
       "      <td>ASEO PERSONAL</td>\n",
       "      <td>7891010030889</td>\n",
       "      <td>12884</td>\n",
       "      <td>SHAMPOO JOHNSON MANZANILLA 200cm3</td>\n",
       "      <td>40</td>\n",
       "      <td>890101815</td>\n",
       "      <td>JOHNSON Y JOHNSON DE COLOMBIA S.A.</td>\n",
       "      <td>BAQ</td>\n",
       "      <td>1</td>\n",
       "      <td>279960</td>\n",
       "      <td>380725</td>\n",
       "      <td>SAO</td>\n",
       "      <td>2770</td>\n",
       "      <td>JOHNSON</td>\n",
       "      <td>C</td>\n",
       "    </tr>\n",
       "    <tr>\n",
       "      <th>2</th>\n",
       "      <td>2017</td>\n",
       "      <td>1</td>\n",
       "      <td>BAQ</td>\n",
       "      <td>BAQ</td>\n",
       "      <td>31</td>\n",
       "      <td>ASEO PERSONAL</td>\n",
       "      <td>7891010030537</td>\n",
       "      <td>12886</td>\n",
       "      <td>SHAMPOO JOHNSON MANZANILLA 400cm3</td>\n",
       "      <td>27</td>\n",
       "      <td>890101815</td>\n",
       "      <td>JOHNSON Y JOHNSON DE COLOMBIA S.A.</td>\n",
       "      <td>BAQ</td>\n",
       "      <td>1</td>\n",
       "      <td>273645</td>\n",
       "      <td>327074</td>\n",
       "      <td>SAO</td>\n",
       "      <td>2770</td>\n",
       "      <td>JOHNSON</td>\n",
       "      <td>C</td>\n",
       "    </tr>\n",
       "    <tr>\n",
       "      <th>3</th>\n",
       "      <td>2017</td>\n",
       "      <td>1</td>\n",
       "      <td>BAQ</td>\n",
       "      <td>BAQ</td>\n",
       "      <td>31</td>\n",
       "      <td>ASEO PERSONAL</td>\n",
       "      <td>7891010030544</td>\n",
       "      <td>12888</td>\n",
       "      <td>SHAMPOO JOHNSON MANZANILLA 750cm3</td>\n",
       "      <td>7</td>\n",
       "      <td>890101815</td>\n",
       "      <td>JOHNSON Y JOHNSON DE COLOMBIA S.A.</td>\n",
       "      <td>BAQ</td>\n",
       "      <td>1</td>\n",
       "      <td>98651</td>\n",
       "      <td>114600</td>\n",
       "      <td>SAO</td>\n",
       "      <td>2770</td>\n",
       "      <td>JOHNSON</td>\n",
       "      <td>C</td>\n",
       "    </tr>\n",
       "    <tr>\n",
       "      <th>4</th>\n",
       "      <td>2017</td>\n",
       "      <td>1</td>\n",
       "      <td>BAQ</td>\n",
       "      <td>BAQ</td>\n",
       "      <td>31</td>\n",
       "      <td>ASEO PERSONAL</td>\n",
       "      <td>7891010031046</td>\n",
       "      <td>22714</td>\n",
       "      <td>ACEITE JOHNSON ORIG 100 cm3</td>\n",
       "      <td>53</td>\n",
       "      <td>890101815</td>\n",
       "      <td>JOHNSON Y JOHNSON DE COLOMBIA S.A.</td>\n",
       "      <td>BAQ</td>\n",
       "      <td>1</td>\n",
       "      <td>240779</td>\n",
       "      <td>360400</td>\n",
       "      <td>SAO</td>\n",
       "      <td>2770</td>\n",
       "      <td>JOHNSON</td>\n",
       "      <td>C</td>\n",
       "    </tr>\n",
       "  </tbody>\n",
       "</table>\n",
       "</div>"
      ],
      "text/plain": [
       "    AÑO  MES REGION CIUDAD  SECCION    NOMB SECCIÓN      CODBARRAS  CODIGO  \\\n",
       "0  2017    1    BAQ    BAQ       31  ASEO PERSONAL   7891010030940   10112   \n",
       "1  2017    1    BAQ    BAQ       31  ASEO PERSONAL   7891010030889   12884   \n",
       "2  2017    1    BAQ    BAQ       31  ASEO PERSONAL   7891010030537   12886   \n",
       "3  2017    1    BAQ    BAQ       31  ASEO PERSONAL   7891010030544   12888   \n",
       "4  2017    1    BAQ    BAQ       31  ASEO PERSONAL   7891010031046   22714   \n",
       "\n",
       "                              DESCRP  CANTID     NITPRO  \\\n",
       "0    SHAMPOO JOHNSON ORIGINAL 750cm3       4  890101815   \n",
       "1  SHAMPOO JOHNSON MANZANILLA 200cm3      40  890101815   \n",
       "2  SHAMPOO JOHNSON MANZANILLA 400cm3      27  890101815   \n",
       "3  SHAMPOO JOHNSON MANZANILLA 750cm3       7  890101815   \n",
       "4        ACEITE JOHNSON ORIG 100 cm3      53  890101815   \n",
       "\n",
       "                                RAZON DISTRI  CODNEG  VRCOST  VRVENT TIPNEG  \\\n",
       "0  JOHNSON Y JOHNSON DE COLOMBIA S.A.    BAQ       1   56372   78000    SAO   \n",
       "1  JOHNSON Y JOHNSON DE COLOMBIA S.A.    BAQ       1  279960  380725    SAO   \n",
       "2  JOHNSON Y JOHNSON DE COLOMBIA S.A.    BAQ       1  273645  327074    SAO   \n",
       "3  JOHNSON Y JOHNSON DE COLOMBIA S.A.    BAQ       1   98651  114600    SAO   \n",
       "4  JOHNSON Y JOHNSON DE COLOMBIA S.A.    BAQ       1  240779  360400    SAO   \n",
       "\n",
       "   MARCA   NOMMAR INDCODIFI  \n",
       "0   2770  JOHNSON         C  \n",
       "1   2770  JOHNSON         C  \n",
       "2   2770  JOHNSON         C  \n",
       "3   2770  JOHNSON         C  \n",
       "4   2770  JOHNSON         C  "
      ]
     },
     "execution_count": 7,
     "metadata": {},
     "output_type": "execute_result"
    }
   ],
   "source": [
    "df.head()"
   ]
  },
  {
   "cell_type": "code",
   "execution_count": null,
   "id": "07d93e6b",
   "metadata": {},
   "outputs": [],
   "source": []
  }
 ],
 "metadata": {
  "kernelspec": {
   "display_name": ".venv",
   "language": "python",
   "name": "python3"
  },
  "language_info": {
   "codemirror_mode": {
    "name": "ipython",
    "version": 3
   },
   "file_extension": ".py",
   "mimetype": "text/x-python",
   "name": "python",
   "nbconvert_exporter": "python",
   "pygments_lexer": "ipython3",
   "version": "3.12.3"
  }
 },
 "nbformat": 4,
 "nbformat_minor": 5
}
